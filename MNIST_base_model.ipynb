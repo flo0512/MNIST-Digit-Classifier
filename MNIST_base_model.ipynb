{
 "cells": [
  {
   "cell_type": "code",
   "execution_count": 9,
   "id": "fddef09e",
   "metadata": {},
   "outputs": [],
   "source": [
    "\n",
    "import tensorflow as tf\n",
    "from tensorflow import keras\n",
    "import numpy as np\n",
    "import matplotlib.pyplot as plt\n",
    "%matplotlib inline\n"
   ]
  },
  {
   "cell_type": "code",
   "execution_count": 10,
   "id": "a41f6d08",
   "metadata": {},
   "outputs": [],
   "source": [
    "(X_train, y_train), (X_test, y_test) = keras.datasets.mnist.load_data() # Load the MNIST dataset"
   ]
  },
  {
   "cell_type": "code",
   "execution_count": 11,
   "id": "c11c6b45",
   "metadata": {},
   "outputs": [],
   "source": [
    "len(X_train), len(X_test) # Number of training and test samples\n",
    "X_train = X_train / 255.0 # Normalize the training images\n",
    "X_test = X_test / 255.0 # Normalize the test images\n"
   ]
  },
  {
   "cell_type": "code",
   "execution_count": 12,
   "id": "081b6885",
   "metadata": {},
   "outputs": [],
   "source": [
    "model = keras.models.Sequential() # Create a Sequential model\n",
    "model.add(keras.layers.Flatten(input_shape=(28, 28))) # Flatten the input images\n",
    "model.add(keras.layers.Dense(128, activation='relu')) # Add a dense layer with ReLU activation\n",
    "model.add(keras.layers.Dense(10, activation='softmax')) # Add an output layer with softmax activation\n",
    "model.compile(optimizer='adam', loss='sparse_categorical_crossentropy', metrics=['accuracy']) # Compile the model\n"
   ]
  },
  {
   "cell_type": "code",
   "execution_count": 13,
   "id": "b62d802d",
   "metadata": {},
   "outputs": [
    {
     "name": "stdout",
     "output_type": "stream",
     "text": [
      "Epoch 1/5\n",
      "\u001b[1m1875/1875\u001b[0m \u001b[32m━━━━━━━━━━━━━━━━━━━━\u001b[0m\u001b[37m\u001b[0m \u001b[1m2s\u001b[0m 962us/step - accuracy: 0.8746 - loss: 0.4409\n",
      "Epoch 2/5\n",
      "\u001b[1m1875/1875\u001b[0m \u001b[32m━━━━━━━━━━━━━━━━━━━━\u001b[0m\u001b[37m\u001b[0m \u001b[1m2s\u001b[0m 944us/step - accuracy: 0.9656 - loss: 0.1189\n",
      "Epoch 3/5\n",
      "\u001b[1m1875/1875\u001b[0m \u001b[32m━━━━━━━━━━━━━━━━━━━━\u001b[0m\u001b[37m\u001b[0m \u001b[1m2s\u001b[0m 931us/step - accuracy: 0.9762 - loss: 0.0802\n",
      "Epoch 4/5\n",
      "\u001b[1m1875/1875\u001b[0m \u001b[32m━━━━━━━━━━━━━━━━━━━━\u001b[0m\u001b[37m\u001b[0m \u001b[1m2s\u001b[0m 947us/step - accuracy: 0.9819 - loss: 0.0602\n",
      "Epoch 5/5\n",
      "\u001b[1m1875/1875\u001b[0m \u001b[32m━━━━━━━━━━━━━━━━━━━━\u001b[0m\u001b[37m\u001b[0m \u001b[1m2s\u001b[0m 942us/step - accuracy: 0.9874 - loss: 0.0431\n",
      "\u001b[1m313/313\u001b[0m \u001b[32m━━━━━━━━━━━━━━━━━━━━\u001b[0m\u001b[37m\u001b[0m \u001b[1m0s\u001b[0m 763us/step - accuracy: 0.9752 - loss: 0.0802\n",
      "Test accuracy: 0.9778000116348267\n"
     ]
    }
   ],
   "source": [
    "# Train the model\n",
    "model.fit(X_train, y_train, epochs=5) # Train the model for 5\n",
    "# Evaluate the model\n",
    "test_loss, test_acc = model.evaluate(X_test, y_test) # Evaluate the model on the test set. \n",
    "print('Test accuracy:', test_acc) # Print the test accuracy\n",
    "\n"
   ]
  }
 ],
 "metadata": {
  "kernelspec": {
   "display_name": "tf_env",
   "language": "python",
   "name": "python3"
  },
  "language_info": {
   "codemirror_mode": {
    "name": "ipython",
    "version": 3
   },
   "file_extension": ".py",
   "mimetype": "text/x-python",
   "name": "python",
   "nbconvert_exporter": "python",
   "pygments_lexer": "ipython3",
   "version": "3.10.18"
  }
 },
 "nbformat": 4,
 "nbformat_minor": 5
}
